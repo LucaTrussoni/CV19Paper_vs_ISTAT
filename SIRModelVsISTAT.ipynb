{
 "cells": [
  {
   "cell_type": "markdown",
   "metadata": {},
   "source": [
    "# Estimating the prevalence of CoViD19 in Italy"
   ]
  },
  {
   "cell_type": "markdown",
   "metadata": {},
   "source": [
    "During the pandemic I wrote with my friends Fabio Verachi and Luciano Lanzi a paper that proposed a quantitative modeling approach to estimate the direct costs of CoViD19 in Italy. It was based on a standard epidemic model (a variant of SIR) and a multi state model (to calculate hospital and ICU occupation rates).\n",
    "You can find the preprint on medRxiv, [here](https://www.medrxiv.org/content/10.1101/2020.05.28.20115790v1); the paper has been accepted by the Risk Management Magazine, you can find the published version [here](https://www.aifirm.it/wp-content/uploads/2020/08/RMM_2020_2.pdf). The model was fitted on data available on May 4th 2020."
   ]
  },
  {
   "cell_type": "markdown",
   "metadata": {},
   "source": [
    "Recently ISTAT published the [results](https://www.istat.it/it/files//2020/08/ReportPrimiRisultatiIndagineSiero.pdf) of a serological test campaign in Italy that estimated prevalence in the time span from May 25 to July 15 at 2.5% of population (confidence interval from 2.3% to 2.6%), 1.482.377 people."
   ]
  },
  {
   "cell_type": "markdown",
   "metadata": {},
   "source": [
    "This results are quite a surprise. During the pandemic statistic institutions in Italy (like ISPI) estimated a much larger prevalence (4.4%, 2.642.326) and their results had great diffusion (see fo example the Financial Times,https://www.ft.com/content/7c312d8a-fcfe-4ce7-94d5-f681221e6042)."
   ]
  },
  {
   "cell_type": "markdown",
   "metadata": {},
   "source": [
    "I will show here that the numbers implied in our model are in line with ISTAT observations"
   ]
  },
  {
   "cell_type": "markdown",
   "metadata": {},
   "source": [
    "Let's start defining our model (just had fun trying to not to use numpy):"
   ]
  },
  {
   "cell_type": "code",
   "execution_count": 1,
   "metadata": {},
   "outputs": [],
   "source": [
    "class SIR_Model:\n",
    "    def __init__(self,beta,D1,D2,PCatch,LockDnT,LockDnBeta):\n",
    "        self.beta=beta\n",
    "        self.D1=D1\n",
    "        self.D2=D2\n",
    "        self.PCatch=PCatch\n",
    "        self.LockDnT=LockDnT\n",
    "        self.LockDnBeta=LockDnBeta \n",
    "    def Diff_SIR(self,Status,isBefore=False):\n",
    "        CurrentBeta=self.LockDnBeta\n",
    "        if (isBefore):\n",
    "            CurrentBeta=self.beta\n",
    "        PFree=1-self.PCatch\n",
    "        Gamma1=1/self.D1\n",
    "        Gamma2=1/self.D2\n",
    "        # Status=[S,I,R1,R2]\n",
    "        # Output=[dS,dI,dR1,dR2]\n",
    "        return [-Status[0]*Status[1]*CurrentBeta,\n",
    "                Status[0]*Status[1]*CurrentBeta-(self.PCatch*Gamma1+PFree*Gamma2)*Status[1],\n",
    "                self.PCatch*Gamma1*Status[1],\n",
    "                PFree*Gamma2*Status[1]]   \n",
    "    def NextStep(self,Status,isBefore=False):\n",
    "        # Runge-Kutta integration\n",
    "        D1=self.Diff_SIR(Status,isBefore)\n",
    "        S1=[0.5*x+y for x,y in zip(D1,Status)]\n",
    "        D2=self.Diff_SIR(S1,isBefore)\n",
    "        S2=[0.5*x+y for x,y in zip(D2,Status)]\n",
    "        D3=self.Diff_SIR(S2,isBefore)\n",
    "        S3=[x+y for x,y in zip(D2,Status)]\n",
    "        D4=self.Diff_SIR(S3,isBefore)\n",
    "        increment=[w/6+x/3+y/3+z/6 for w,x,y,z in zip(D1,D2,D3,D4)]\n",
    "        NewStatus=[x+y for x,y in zip(Status,increment)]\n",
    "        return NewStatus\n",
    "    def SIR_Simulation(self,Status,StartDays=0,NumOfDays=180):\n",
    "        Simulation=[[0,Status]]\n",
    "        for i in range(NumOfDays):\n",
    "            if i<=self.LockDnT:\n",
    "                NewStatus=self.NextStep(Status,True)\n",
    "            else:\n",
    "                NewStatus=self.NextStep(Status)\n",
    "            Simulation.append([i,NewStatus])\n",
    "            Status=NewStatus\n",
    "        return(Simulation)"
   ]
  },
  {
   "cell_type": "markdown",
   "metadata": {},
   "source": [
    "For details on the model see the paper: basically we simulate the population among with the pandemic spreads S (that is less than the total population, since we had a lockdown), the infected I, and the Removed of type one (infection detected) or type 2 (infection silent): the idea is that the type 2 infected are able to spread infection."
   ]
  },
  {
   "cell_type": "markdown",
   "metadata": {},
   "source": [
    "In order to simulate death toll we need to implement also the multi state model. Again, see the paper: type one removed can either heal or die after some time, during with they evolve trhough different states (alive at home, alive at hospital, alive in ICU, dead, alive and healed). In this notebook we are interested only in the ones that die. Notice that in our model no type 2 infected die: the idea is that you don't die of CoViD in hours, so anybody that is going to dye is detected."
   ]
  },
  {
   "cell_type": "code",
   "execution_count": 2,
   "metadata": {},
   "outputs": [],
   "source": [
    "class MultiStateModel:\n",
    "    def __init__(self,DeathProbs,HealProbs,Time1,Time2):\n",
    "        # Destiny of a covid infected simulated human\n",
    "        # that is catched by Health Guard system is\n",
    "        # divided in three periods:\n",
    "        # Catch -> Catch + Time1\n",
    "        # Dies with prob DeathProbs[0]\n",
    "        # Catch + Time1 -> Catch + Time2\n",
    "        # Dies with prob DeathProbs[1]\n",
    "        # Heals with prob HealProbs[0]\n",
    "        # Catch + Time2 -> infinity\n",
    "        # Dies with prob DeathProbs[2]\n",
    "        # Heals with prob HealProbs[1]\n",
    "        # All probabilities are \"per day\"\n",
    "        self.DP1=DeathProbs[0]\n",
    "        self.DP2=DeathProbs[1]\n",
    "        self.DP3=DeathProbs[2]\n",
    "        self.HP2=HealProbs[0]\n",
    "        self.HP3=HealProbs[1]\n",
    "        self.Time1=Time1\n",
    "        self.Time2=Time2\n",
    "    def DeathSimulation(self,CatchedFlow,StartLoad,Memory=200):\n",
    "        # Set Initial status\n",
    "        Status=[]\n",
    "        CumDeaths=[0]\n",
    "        for i in range(Memory):\n",
    "            if i<len(StartLoad):\n",
    "                Status.append(StartLoad[i])\n",
    "            else:\n",
    "                Status.append(0)\n",
    "        # Evolution rules\n",
    "        # Calculate outflows\n",
    "        for t in range(len(CatchedFlow)):\n",
    "            # Calculate outflows\n",
    "            Pop1=0\n",
    "            Pop2=0\n",
    "            Pop3=0\n",
    "            for i in range(Memory):\n",
    "                if i<self.Time1:\n",
    "                    Pop1+=Status[i]\n",
    "                if i<self.Time2:\n",
    "                    Pop2+=Status[i]\n",
    "                Pop3+=Status[i]\n",
    "            Pop3=Pop3-Pop2-Pop1\n",
    "            Pop2=Pop2-Pop1\n",
    "            Outflow1=np.int(self.DP1*Pop1)\n",
    "            Outflow2=np.int(self.DP2*Pop2+self.HP2*Pop2)\n",
    "            Outflow3=np.int(self.DP3*Pop3+self.HP3*Pop3)\n",
    "            Deaths=np.int(self.DP1*Pop1+self.DP2*Pop2+self.DP3*Pop3)\n",
    "            CumDeaths.append(CumDeaths[-1]+Deaths)\n",
    "            # GrowOneDay and inflow\n",
    "            for i in range(Memory):\n",
    "                j=Memory-i-1\n",
    "                if j>0:\n",
    "                    Status[j]=Status[j-1]\n",
    "                    Status[0]=CatchedFlow[t]\n",
    "            # Outflow group 3\n",
    "            for i in range(Memory):\n",
    "                j=Memory-i-1\n",
    "                if Status[j]>0 and Outflow3>0:\n",
    "                    if Status[j]<Outflow3:\n",
    "                        Outflow3=Outflow3-Status[j]\n",
    "                        Status[j]=0\n",
    "                    else:\n",
    "                        Status[j]=Status[j]-Outflow3\n",
    "                        Outflow3=0\n",
    "            # Outflow group 2\n",
    "            for i in range(Memory):\n",
    "                j=Memory-i-1\n",
    "                if Status[j]>0 and Outflow2>0 and j<self.Time2:\n",
    "                    if Status[j]<Outflow2:\n",
    "                        Outflow2=Outflow2-Status[j]\n",
    "                        Status[j]=0\n",
    "                    else:\n",
    "                        Status[j]=Status[j]-Outflow2\n",
    "                        Outflow2=0\n",
    "            # Outflow group 1\n",
    "            for i in range(Memory):\n",
    "                j=Memory-i-1\n",
    "                if Status[j]>0 and Outflow1>0 and j<self.Time1:\n",
    "                    if Status[j]<Outflow1:\n",
    "                        Outflow1=Outflow1-Status[j]\n",
    "                        Status[j]=0\n",
    "                    else:\n",
    "                        Status[j]=Status[j]-Outflow1\n",
    "                        Outflow1=0\n",
    "        return CumDeaths"
   ]
  },
  {
   "cell_type": "markdown",
   "metadata": {},
   "source": [
    "Now we have all definitions, so let's start playing. Using the parameters of the paper, we instatiate models:"
   ]
  },
  {
   "cell_type": "code",
   "execution_count": 3,
   "metadata": {},
   "outputs": [],
   "source": [
    "SIRModel=SIR_Model(0.27704,5.2,15,0.05375,13+38,0.16632)\n",
    "StateModel=MultiStateModel([0.03557,0.001298,0.001566],[0.032750,0.015831],4,9)"
   ]
  },
  {
   "cell_type": "markdown",
   "metadata": {},
   "source": [
    "Let's start the epidemiological simulation:"
   ]
  },
  {
   "cell_type": "code",
   "execution_count": 4,
   "metadata": {},
   "outputs": [],
   "source": [
    "Initial_Status=[1-5e-6,5e-6,0,0]\n",
    "SIRDynamics=SIRModel.SIR_Simulation(Initial_Status)"
   ]
  },
  {
   "cell_type": "markdown",
   "metadata": {},
   "source": [
    "Since in the paper we estimated a Dimension of the pandemic (the total people that are around the infected) of 1.995.898, and that May 25 and July 15 are the 129th and 180th simulated days, the total removed and infected people at start and end of the ISTAT campaing are:"
   ]
  },
  {
   "cell_type": "code",
   "execution_count": 5,
   "metadata": {},
   "outputs": [],
   "source": [
    "import numpy as np\n",
    "Dimension=1995898\n",
    "TotalCount=[0,0]\n",
    "TotalCount[1]=np.int((SIRDynamics[180][1][1]+SIRDynamics[180][1][2]+SIRDynamics[180][1][3])*Dimension)\n",
    "TotalCount[0]=np.int((SIRDynamics[129][1][1]+SIRDynamics[129][1][2]+SIRDynamics[129][1][3])*Dimension)"
   ]
  },
  {
   "cell_type": "code",
   "execution_count": 6,
   "metadata": {},
   "outputs": [
    {
     "data": {
      "text/plain": [
       "1723368"
      ]
     },
     "execution_count": 6,
     "metadata": {},
     "output_type": "execute_result"
    }
   ],
   "source": [
    "TotalCount[0]"
   ]
  },
  {
   "cell_type": "code",
   "execution_count": 7,
   "metadata": {},
   "outputs": [
    {
     "data": {
      "text/plain": [
       "1742957"
      ]
     },
     "execution_count": 7,
     "metadata": {},
     "output_type": "execute_result"
    }
   ],
   "source": [
    "TotalCount[1]"
   ]
  },
  {
   "cell_type": "markdown",
   "metadata": {},
   "source": [
    "Since we want alive infected, we need to estimate deaths. The state model needs the infected detection inflow. It is annoying since the SIR simulation starts before the infection was found in italy, so there's an offset. Let's start putting in the time series of inflows observed from 2020-02-25 (vs 24) to 2020-05-04 (vs 03) (data coming from Protezione Civile GitHub [repository](https://github.com/pcm-dpc/COVID-19)):"
   ]
  },
  {
   "cell_type": "code",
   "execution_count": 8,
   "metadata": {},
   "outputs": [],
   "source": [
    "TrueInflows=[93,78,250,238,240,566,342,466,587,769,778,1247,1492,1797,977,\n",
    "             2313,2651,2547,3497,3590,3233,3526,4207,5322,5986,6557,5560,4789,\n",
    "             5249,5210,6153,5959,5974,5217,4050,4053,4782,4668,4585,4805,4316,\n",
    "             3599,3039,3836,4204,3951,4694,4092,3153,2972,2667,3786,3493,3491,\n",
    "             3047,2256,2729,3370,2646,3021,2357,2324,1739,2091,2086,1872,1965,\n",
    "             1900,1389,1221]"
   ]
  },
  {
   "cell_type": "markdown",
   "metadata": {},
   "source": [
    "We need to combine this with the simulated data for inflows after May 4th:"
   ]
  },
  {
   "cell_type": "code",
   "execution_count": 9,
   "metadata": {},
   "outputs": [],
   "source": [
    "SimulatedInFlow=[]\n",
    "for i in range(len(SIRDynamics)):\n",
    "    if i>0:\n",
    "        CatchedIncrement=np.int(Dimension*(SIRDynamics[i][1][2]-SIRDynamics[i-1][1][2]))\n",
    "        SimulatedInFlow.append(CatchedIncrement)\n",
    "JoinedInFlow=TrueInflows\n",
    "for i in range(51):\n",
    "    JoinedInFlow.append(SimulatedInFlow[108+i])"
   ]
  },
  {
   "cell_type": "markdown",
   "metadata": {},
   "source": [
    "Now we can feed the joined inflow estimation into the state model and find the expected deaths:"
   ]
  },
  {
   "cell_type": "code",
   "execution_count": 10,
   "metadata": {},
   "outputs": [],
   "source": [
    "StateModel=MultiStateModel([0.03557,0.001298,0.001566],[0.032750,0.015831],4,9)\n",
    "DeceaseSeries=StateModel.DeathSimulation(JoinedInFlow,[46,46,46,46,45])\n",
    "DeadCount=[0,0]\n",
    "DeadCount[1]=DeceaseSeries[121]\n",
    "DeadCount[0]=DeceaseSeries[70]"
   ]
  },
  {
   "cell_type": "markdown",
   "metadata": {},
   "source": [
    "The expected alive infected at the starting of ISTAT campaign are:"
   ]
  },
  {
   "cell_type": "code",
   "execution_count": 11,
   "metadata": {},
   "outputs": [
    {
     "data": {
      "text/plain": [
       "1689990"
      ]
     },
     "execution_count": 11,
     "metadata": {},
     "output_type": "execute_result"
    }
   ],
   "source": [
    "TotalCount[0]-DeadCount[0]"
   ]
  },
  {
   "cell_type": "markdown",
   "metadata": {},
   "source": [
    "While at the end are:"
   ]
  },
  {
   "cell_type": "code",
   "execution_count": 12,
   "metadata": {},
   "outputs": [
    {
     "data": {
      "text/plain": [
       "1699008"
      ]
     },
     "execution_count": 12,
     "metadata": {},
     "output_type": "execute_result"
    }
   ],
   "source": [
    "TotalCount[1]-DeadCount[1]"
   ]
  },
  {
   "cell_type": "markdown",
   "metadata": {},
   "source": [
    "In terms of prevalence, our central value is:"
   ]
  },
  {
   "cell_type": "code",
   "execution_count": 13,
   "metadata": {},
   "outputs": [
    {
     "data": {
      "text/plain": [
       "0.028227441717211643"
      ]
     },
     "execution_count": 13,
     "metadata": {},
     "output_type": "execute_result"
    }
   ],
   "source": [
    "(TotalCount[0]+TotalCount[1]-DeadCount[0]-DeadCount[1])/2/60030201"
   ]
  },
  {
   "cell_type": "markdown",
   "metadata": {},
   "source": [
    "We have a 0.32% error respect to central estimate of ISTAT! I am proud to conclude that our model is quite accurate!"
   ]
  }
 ],
 "metadata": {
  "kernelspec": {
   "display_name": "Python 3",
   "language": "python",
   "name": "python3"
  },
  "language_info": {
   "codemirror_mode": {
    "name": "ipython",
    "version": 3
   },
   "file_extension": ".py",
   "mimetype": "text/x-python",
   "name": "python",
   "nbconvert_exporter": "python",
   "pygments_lexer": "ipython3",
   "version": "3.7.5"
  }
 },
 "nbformat": 4,
 "nbformat_minor": 2
}
